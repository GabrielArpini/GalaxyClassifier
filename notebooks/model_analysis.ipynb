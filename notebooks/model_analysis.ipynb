{
 "cells": [
  {
   "cell_type": "code",
   "execution_count": 1,
   "id": "e4409f2c-e937-4c4b-9420-80661cd079bf",
   "metadata": {},
   "outputs": [],
   "source": [
    "import sys\n",
    "from pathlib import Path"
   ]
  },
  {
   "cell_type": "code",
   "execution_count": 2,
   "id": "e039659c-99de-4dc1-ab84-a2bab3dad46f",
   "metadata": {},
   "outputs": [
    {
     "data": {
      "text/plain": [
       "PosixPath('/home/arpola/Documents/GalaxyClassifier')"
      ]
     },
     "execution_count": 2,
     "metadata": {},
     "output_type": "execute_result"
    }
   ],
   "source": [
    "root_path = Path.cwd().parent \n",
    "if str(root_path) not in sys.path:\n",
    "    sys.path.append(str(root_path))\n",
    "root_path"
   ]
  },
  {
   "cell_type": "code",
   "execution_count": 3,
   "id": "dfc373f6-3bc0-4d1c-b744-3456489db2a1",
   "metadata": {},
   "outputs": [
    {
     "name": "stderr",
     "output_type": "stream",
     "text": [
      "/home/arpola/Documents/GalaxyClassifier/.venv/lib/python3.12/site-packages/astroNN/__init__.py:5: UserWarning: pkg_resources is deprecated as an API. See https://setuptools.pypa.io/en/latest/pkg_resources.html. The pkg_resources package is slated for removal as early as 2025-11-30. Refrain from using this package or pin to Setuptools<81.\n",
      "  from pkg_resources import get_distribution\n",
      "2025-08-05 16:49:39.390155: E external/local_xla/xla/stream_executor/cuda/cuda_fft.cc:467] Unable to register cuFFT factory: Attempting to register factory for plugin cuFFT when one has already been registered\n",
      "WARNING: All log messages before absl::InitializeLog() is called are written to STDERR\n",
      "E0000 00:00:1754423379.401647   60342 cuda_dnn.cc:8579] Unable to register cuDNN factory: Attempting to register factory for plugin cuDNN when one has already been registered\n",
      "E0000 00:00:1754423379.405188   60342 cuda_blas.cc:1407] Unable to register cuBLAS factory: Attempting to register factory for plugin cuBLAS when one has already been registered\n",
      "W0000 00:00:1754423379.415374   60342 computation_placer.cc:177] computation placer already registered. Please check linkage and avoid linking the same target more than once.\n",
      "W0000 00:00:1754423379.415383   60342 computation_placer.cc:177] computation placer already registered. Please check linkage and avoid linking the same target more than once.\n",
      "W0000 00:00:1754423379.415384   60342 computation_placer.cc:177] computation placer already registered. Please check linkage and avoid linking the same target more than once.\n",
      "W0000 00:00:1754423379.415386   60342 computation_placer.cc:177] computation placer already registered. Please check linkage and avoid linking the same target more than once.\n",
      "2025-08-05 16:49:39.418680: I tensorflow/core/platform/cpu_feature_guard.cc:210] This TensorFlow binary is optimized to use available CPU instructions in performance-critical operations.\n",
      "To enable the following instructions: AVX2 FMA, in other operations, rebuild TensorFlow with the appropriate compiler flags.\n"
     ]
    }
   ],
   "source": [
    "import mlflow\n",
    "from mlflow import MlflowClient\n",
    "import torch\n",
    "import cv2\n",
    "import numpy as np\n",
    "import torch\n",
    "import torch.nn.functional as F\n",
    "from torch.utils.data import DataLoader\n",
    "from sklearn.metrics import confusion_matrix, classification_report\n",
    "import seaborn as sns\n",
    "import matplotlib.pyplot as plt\n",
    "from src.cnn_t import NeuralNet\n",
    "from src.utils.general import get_data, LazyGalaxyDataset,get_splits\n",
    "import torchmetrics\n",
    "from torch.utils.data import DataLoader\n",
    "from torchvision import transforms\n",
    "from torchvision.transforms import v2"
   ]
  },
  {
   "cell_type": "code",
   "execution_count": 4,
   "id": "feb1eb44-a333-40b9-9ec2-99e84f87ab28",
   "metadata": {},
   "outputs": [],
   "source": [
    "client = MlflowClient(tracking_uri=\"http://127.0.0.1:5000\")\n",
    "mlflow.set_tracking_uri('http://localhost:5000')"
   ]
  },
  {
   "cell_type": "code",
   "execution_count": 5,
   "id": "c8b4f970-e6fe-48c8-b0c0-48e320228d75",
   "metadata": {},
   "outputs": [
    {
     "name": "stdout",
     "output_type": "stream",
     "text": [
      "Model name: galaxy-classifier, model version: 3\n"
     ]
    },
    {
     "name": "stderr",
     "output_type": "stream",
     "text": [
      "/tmp/ipykernel_60342/3695573292.py:1: FutureWarning: ``mlflow.tracking.client.MlflowClient.get_latest_versions`` is deprecated since 2.9.0. Model registry stages will be removed in a future major release. To learn more about the deprecation of model registry stages, see our migration guide here: https://mlflow.org/docs/latest/model-registry.html#migrating-from-stages\n"
     ]
    }
   ],
   "source": [
    "model_metadata = client.get_latest_versions(\"galaxy-classifier\")\n",
    "model_name = model_metadata[0].name\n",
    "model_version = model_metadata[0].version\n",
    "print(f\"Model name: {model_name}, model version: {model_version}\")"
   ]
  },
  {
   "cell_type": "code",
   "execution_count": 6,
   "id": "9c427083-1b59-47b5-91eb-108104bbef33",
   "metadata": {},
   "outputs": [
    {
     "name": "stderr",
     "output_type": "stream",
     "text": [
      "/home/arpola/Documents/GalaxyClassifier/.venv/lib/python3.12/site-packages/tqdm/auto.py:21: TqdmWarning: IProgress not found. Please update jupyter and ipywidgets. See https://ipywidgets.readthedocs.io/en/stable/user_install.html\n",
      "Downloading artifacts: 100%|██████████████████████████████████████████████████████████████████████████████| 10/10 [00:01<00:00,  9.29it/s]\n"
     ]
    }
   ],
   "source": [
    "model = mlflow.pytorch.load_model(f\"models:/{model_name}/{model_version}\") #{model_version}\")"
   ]
  },
  {
   "cell_type": "code",
   "execution_count": 7,
   "id": "427b61f6-b10d-4083-ba7f-06cff9b53f3e",
   "metadata": {},
   "outputs": [
    {
     "name": "stdout",
     "output_type": "stream",
     "text": [
      "Downloading cleaned images:\n",
      "paths already exists, breaking\n"
     ]
    }
   ],
   "source": [
    "# Set device\n",
    "device = torch.device('cuda' if torch.cuda.is_available() else 'cpu')\n",
    "\n",
    "# Load data\n",
    "images_path = root_path / 'data' / 'images_cleaned.npy'\n",
    "labels_path = root_path / 'data' / 'labels.npy'\n",
    "test_indices = get_splits(root_path, splits=[\"test\"])['test'] # get_splits returns a dict, thats why it is indexed that way\n",
    "\n",
    "\n",
    "transform = transforms.Compose([\n",
    "    transforms.ToPILImage(),\n",
    "    transforms.Resize((256,256)),\n",
    "    transforms.ToTensor(),\n",
    "    transforms.Normalize(mean=[0.485, 0.456, 0.406], std=[0.229, 0.224, 0.225])\n",
    "])\n",
    "test_dataset = LazyGalaxyDataset(test_indices, images_path,labels_path,transform=transform)"
   ]
  },
  {
   "cell_type": "code",
   "execution_count": 8,
   "id": "8e4dc0bd-14aa-45a6-a4ec-e69267fea90b",
   "metadata": {},
   "outputs": [],
   "source": [
    "test_loader = DataLoader(test_dataset)"
   ]
  },
  {
   "cell_type": "code",
   "execution_count": 9,
   "id": "8671bf0d-5238-463b-9be0-d1cf2fa13e2c",
   "metadata": {},
   "outputs": [
    {
     "data": {
      "text/plain": [
       "3548"
      ]
     },
     "execution_count": 9,
     "metadata": {},
     "output_type": "execute_result"
    }
   ],
   "source": [
    "len(test_loader)"
   ]
  },
  {
   "cell_type": "code",
   "execution_count": 10,
   "id": "9e30e545-2e69-47e8-948c-e09cb62f1c57",
   "metadata": {},
   "outputs": [
    {
     "name": "stdout",
     "output_type": "stream",
     "text": [
      "torch.Size([1, 3, 256, 256])\n",
      "Predicted Class: 7 - Unbarred Loose Spiral Galaxies\n",
      "True Class: 7 - Unbarred Loose Spiral Galaxies\n",
      "Probabilities: [2.0910634e-01 4.5027947e-03 1.4254485e-01 3.9018324e-04 2.1813840e-08\n",
      " 2.2877058e-02 2.2021995e-01 4.0026847e-01 1.5356101e-05 7.4962772e-05]\n"
     ]
    }
   ],
   "source": [
    "# Make prediction for test_dataset[40]\n",
    "model.eval()\n",
    "class_names = [\n",
    "    \"0 - Disturbed Galaxies\",\n",
    "    \"1 - Merging Galaxies\",\n",
    "    \"2 - Round Smooth Galaxies\",\n",
    "    \"3 - In-between Round Smooth Galaxies\",\n",
    "    \"4 - Cigar Shaped Smooth Galaxies\",\n",
    "    \"5 - Barred Spiral Galaxies\",\n",
    "    \"6 - Unbarred Tight Spiral Galaxies\",\n",
    "    \"7 - Unbarred Loose Spiral Galaxies\",\n",
    "    \"8 - Edge-on Galaxies without Bulge\",\n",
    "    \"9 - Edge-on Galaxies with Bulge\"\n",
    "]\n",
    "\n",
    "# Get the 40th sample\n",
    "sample_image, sample_label = test_dataset[40]\n",
    "\n",
    "# Add batch dimension and move to device\n",
    "sample_image = sample_image.unsqueeze(0).to(device)  # Shape: (1, 3, 256, 256)\n",
    "print(sample_image.shape)\n",
    "# Perform prediction\n",
    "with torch.no_grad():\n",
    "    output = model(sample_image)  # Forward pass\n",
    "    probabilities = F.softmax(output, dim=1)  # Convert to probabilities\n",
    "    predicted_class = torch.argmax(probabilities, dim=1).item()  # Get predicted class index\n",
    "\n",
    "# Print results\n",
    "print(f\"Predicted Class: {class_names[predicted_class]}\")\n",
    "print(f\"True Class: {class_names[sample_label]}\")\n",
    "print(f\"Probabilities: {probabilities.cpu().numpy()[0]}\")"
   ]
  },
  {
   "cell_type": "code",
   "execution_count": 11,
   "id": "e52b687d-1fe6-44da-be6e-10c080d09903",
   "metadata": {},
   "outputs": [
    {
     "ename": "AttributeError",
     "evalue": "'NeuralNet' object has no attribute 'conv5'",
     "output_type": "error",
     "traceback": [
      "\u001b[31m---------------------------------------------------------------------------\u001b[39m",
      "\u001b[31mAttributeError\u001b[39m                            Traceback (most recent call last)",
      "\u001b[36mCell\u001b[39m\u001b[36m \u001b[39m\u001b[32mIn[11]\u001b[39m\u001b[32m, line 60\u001b[39m\n\u001b[32m     58\u001b[39m \u001b[38;5;66;03m# Compute and plot CAM with prediction for a sample image\u001b[39;00m\n\u001b[32m     59\u001b[39m sample_image, sample_label = test_dataset[\u001b[32m222\u001b[39m]\n\u001b[32m---> \u001b[39m\u001b[32m60\u001b[39m cam, predicted_class, probabilities = \u001b[43mcompute_cam_and_predict\u001b[49m\u001b[43m(\u001b[49m\u001b[43mmodel\u001b[49m\u001b[43m,\u001b[49m\u001b[43m \u001b[49m\u001b[43msample_image\u001b[49m\u001b[43m,\u001b[49m\u001b[43m \u001b[49m\u001b[43msample_label\u001b[49m\u001b[43m,\u001b[49m\u001b[43m \u001b[49m\u001b[43mdevice\u001b[49m\u001b[43m)\u001b[49m\n\u001b[32m     61\u001b[39m plot_cam(sample_image, cam, sample_label, predicted_class, probabilities, class_names)\n",
      "\u001b[36mCell\u001b[39m\u001b[36m \u001b[39m\u001b[32mIn[11]\u001b[39m\u001b[32m, line 9\u001b[39m, in \u001b[36mcompute_cam_and_predict\u001b[39m\u001b[34m(model, image, target_class, device)\u001b[39m\n\u001b[32m      6\u001b[39m     features.append(output.detach())\n\u001b[32m      8\u001b[39m \u001b[38;5;66;03m# Hook the last convolutional layer (conv6)\u001b[39;00m\n\u001b[32m----> \u001b[39m\u001b[32m9\u001b[39m layer = \u001b[43mmodel\u001b[49m\u001b[43m.\u001b[49m\u001b[43mconv5\u001b[49m\n\u001b[32m     10\u001b[39m handle = layer.register_forward_hook(hook)\n\u001b[32m     12\u001b[39m \u001b[38;5;66;03m# Forward pass for prediction and CAM\u001b[39;00m\n",
      "\u001b[36mFile \u001b[39m\u001b[32m~/Documents/GalaxyClassifier/.venv/lib/python3.12/site-packages/torch/nn/modules/module.py:1940\u001b[39m, in \u001b[36mModule.__getattr__\u001b[39m\u001b[34m(self, name)\u001b[39m\n\u001b[32m   1938\u001b[39m     \u001b[38;5;28;01mif\u001b[39;00m name \u001b[38;5;129;01min\u001b[39;00m modules:\n\u001b[32m   1939\u001b[39m         \u001b[38;5;28;01mreturn\u001b[39;00m modules[name]\n\u001b[32m-> \u001b[39m\u001b[32m1940\u001b[39m \u001b[38;5;28;01mraise\u001b[39;00m \u001b[38;5;167;01mAttributeError\u001b[39;00m(\n\u001b[32m   1941\u001b[39m     \u001b[33mf\u001b[39m\u001b[33m\"\u001b[39m\u001b[33m'\u001b[39m\u001b[38;5;132;01m{\u001b[39;00m\u001b[38;5;28mtype\u001b[39m(\u001b[38;5;28mself\u001b[39m).\u001b[34m__name__\u001b[39m\u001b[38;5;132;01m}\u001b[39;00m\u001b[33m'\u001b[39m\u001b[33m object has no attribute \u001b[39m\u001b[33m'\u001b[39m\u001b[38;5;132;01m{\u001b[39;00mname\u001b[38;5;132;01m}\u001b[39;00m\u001b[33m'\u001b[39m\u001b[33m\"\u001b[39m\n\u001b[32m   1942\u001b[39m )\n",
      "\u001b[31mAttributeError\u001b[39m: 'NeuralNet' object has no attribute 'conv5'"
     ]
    }
   ],
   "source": [
    "# Class Activation Maps (CAM) with Prediction done with AI to see how model is learning, not my code\n",
    "def compute_cam_and_predict(model, image, target_class, device):\n",
    "    model.eval()\n",
    "    features = []\n",
    "    def hook(module, input, output):\n",
    "        features.append(output.detach())\n",
    "    \n",
    "    # Hook the last convolutional layer (conv6)\n",
    "    layer = model.conv5\n",
    "    handle = layer.register_forward_hook(hook)\n",
    "    \n",
    "    # Forward pass for prediction and CAM\n",
    "    image = image.unsqueeze(0).to(device)\n",
    "    with torch.no_grad():\n",
    "        output = model(image)\n",
    "        probabilities = F.softmax(output, dim=1)\n",
    "        predicted_class = torch.argmax(probabilities, dim=1).item()\n",
    "    \n",
    "    # Compute CAM\n",
    "    weights = model.fc3.weight[target_class].detach().cpu().numpy()\n",
    "    feature_map = features[0][0].cpu().numpy()\n",
    "    cam = np.zeros(feature_map.shape[1:], dtype=np.float32)\n",
    "    \n",
    "    for i, w in enumerate(weights):\n",
    "        cam += w * feature_map[i]\n",
    "    \n",
    "    # Normalize and resize\n",
    "    cam = np.maximum(cam, 0)\n",
    "    cam = cam / (cam.max() + 1e-10)  # Avoid division by zero\n",
    "    cam = cv2.resize(cam, (image.shape[3], image.shape[2]), interpolation=cv2.INTER_LINEAR)\n",
    "    cam = np.uint8(255 * cam)\n",
    "    \n",
    "    handle.remove()\n",
    "    return cam, predicted_class, probabilities.cpu().numpy()[0]\n",
    "\n",
    "def plot_cam(image, cam, true_class, predicted_class, probabilities, class_names):\n",
    "    image = image.permute(1, 2, 0).cpu().numpy()\n",
    "    image = (image - image.min()) / (image.max() - image.min())  # Normalize to [0, 1]\n",
    "    \n",
    "    plt.figure(figsize=(8, 4))\n",
    "    plt.subplot(1, 2, 1)\n",
    "    plt.imshow(image)\n",
    "    plt.title('Original Image')\n",
    "    plt.axis('off')\n",
    "    \n",
    "    plt.subplot(1, 2, 2)\n",
    "    plt.imshow(image)\n",
    "    plt.imshow(cam, cmap='jet', alpha=0.5)\n",
    "    plt.title(f'CAM - True: {class_names[true_class]}\\nPred: {class_names[predicted_class]}\\n prob:{probabilities[predicted_class]:.3f}')\n",
    "    plt.axis('off')\n",
    "    plt.savefig('cam_visualization.png')\n",
    "    plt.show()\n",
    "    \n",
    "    print(f\"Predicted Class: {class_names[predicted_class]}\")\n",
    "    print(f\"True Class: {class_names[true_class]}\")\n",
    "    print(f\"Probabilities: {probabilities}\")\n",
    "\n",
    "# Compute and plot CAM with prediction for a sample image\n",
    "sample_image, sample_label = test_dataset[222]\n",
    "cam, predicted_class, probabilities = compute_cam_and_predict(model, sample_image, sample_label, device)\n",
    "plot_cam(sample_image, cam, sample_label, predicted_class, probabilities, class_names)"
   ]
  },
  {
   "cell_type": "code",
   "execution_count": 12,
   "id": "fa503ac7-f8ad-4e02-bfd5-e250b6ed58da",
   "metadata": {},
   "outputs": [],
   "source": [
    "def conf_matrix_eval(model):\n",
    "    model.eval()\n",
    "    metric = torchmetrics.classification.MulticlassConfusionMatrix(num_classes=10).to(device)\n",
    "\n",
    "    with torch.no_grad():\n",
    "        for X_batch, y_batch in test_loader:\n",
    "            X_batch, y_batch = X_batch.to(device), y_batch.to(device)\n",
    "            y_pred_logits = model(X_batch)  # Raw logits [batch_size, 10]\n",
    "\n",
    "            # Convert logits to predicted class indices\n",
    "            _, y_pred_classes = torch.max(y_pred_logits, 1)\n",
    "\n",
    "            metric.update(y_pred_classes, y_batch)  \n",
    "\n",
    "    conf_matrix = metric.compute()\n",
    "\n",
    "    # Calculate precision, recall, and F1-score from the confusion matrix\n",
    "    for i, class_name in enumerate(class_names):\n",
    "        tp = conf_matrix[i, i].item()\n",
    "        fp = conf_matrix[:, i].sum().item() - tp\n",
    "        fn = conf_matrix[i, :].sum().item() - tp\n",
    "\n",
    "        precision = tp / (tp + fp) if (tp + fp) > 0 else 0\n",
    "        recall = tp / (tp + fn) if (tp + fn) > 0 else 0\n",
    "        f1_score = 2 * (precision * recall) / (precision + recall) if (precision + recall) > 0 else 0\n",
    "\n",
    "        print(f\"Metrics for {class_name}:\")\n",
    "        print(f\"  Precision: {precision:.4f}\")\n",
    "        print(f\"  Recall: {recall:.4f}\")\n",
    "        print(f\"  F1-score: {f1_score:.4f}\")\n",
    "    return conf_matrix"
   ]
  },
  {
   "cell_type": "code",
   "execution_count": 13,
   "id": "569d5def-835f-42dc-b388-31cbc681b356",
   "metadata": {},
   "outputs": [
    {
     "name": "stdout",
     "output_type": "stream",
     "text": [
      "Metrics for 0 - Disturbed Galaxies:\n",
      "  Precision: 0.5139\n",
      "  Recall: 0.3426\n",
      "  F1-score: 0.4111\n",
      "Metrics for 1 - Merging Galaxies:\n",
      "  Precision: 0.8204\n",
      "  Recall: 0.7162\n",
      "  F1-score: 0.7648\n",
      "Metrics for 2 - Round Smooth Galaxies:\n",
      "  Precision: 0.7648\n",
      "  Recall: 0.9282\n",
      "  F1-score: 0.8386\n",
      "Metrics for 3 - In-between Round Smooth Galaxies:\n",
      "  Precision: 0.8299\n",
      "  Recall: 0.7931\n",
      "  F1-score: 0.8111\n",
      "Metrics for 4 - Cigar Shaped Smooth Galaxies:\n",
      "  Precision: 0.5238\n",
      "  Recall: 0.8209\n",
      "  F1-score: 0.6395\n",
      "Metrics for 5 - Barred Spiral Galaxies:\n",
      "  Precision: 0.6819\n",
      "  Recall: 0.6919\n",
      "  F1-score: 0.6869\n",
      "Metrics for 6 - Unbarred Tight Spiral Galaxies:\n",
      "  Precision: 0.6675\n",
      "  Recall: 0.7295\n",
      "  F1-score: 0.6971\n",
      "Metrics for 7 - Unbarred Loose Spiral Galaxies:\n",
      "  Precision: 0.6259\n",
      "  Recall: 0.5247\n",
      "  F1-score: 0.5708\n",
      "Metrics for 8 - Edge-on Galaxies without Bulge:\n",
      "  Precision: 0.7024\n",
      "  Recall: 0.8310\n",
      "  F1-score: 0.7613\n",
      "Metrics for 9 - Edge-on Galaxies with Bulge:\n",
      "  Precision: 0.8277\n",
      "  Recall: 0.7813\n",
      "  F1-score: 0.8038\n"
     ]
    }
   ],
   "source": [
    "conf_matrix = conf_matrix_eval(model)"
   ]
  },
  {
   "cell_type": "code",
   "execution_count": 14,
   "id": "a2f86790-0060-48cf-8350-a8fd686d36f8",
   "metadata": {},
   "outputs": [
    {
     "data": {
      "text/plain": [
       "<Axes: >"
      ]
     },
     "execution_count": 14,
     "metadata": {},
     "output_type": "execute_result"
    },
    {
     "data": {
      "image/png": "[encoded data removed]",
      "text/plain": [
       "<Figure size 640x480 with 2 Axes>"
      ]
     },
     "metadata": {},
     "output_type": "display_data"
    }
   ],
   "source": [
    "group_names = ['True Neg','False Pos','False Neg','True Pos']\n",
    "sns.heatmap(conf_matrix.cpu().numpy(),annot=True)"
   ]
  },
  {
   "cell_type": "code",
   "execution_count": null,
   "id": "ea7f6b79-f68d-4f07-b0d8-d2df9dee3236",
   "metadata": {},
   "outputs": [],
   "source": []
  },
  {
   "cell_type": "code",
   "execution_count": null,
   "id": "37fc6968-856a-47e8-883b-a4de385ca215",
   "metadata": {},
   "outputs": [],
   "source": []
  }
 ],
 "metadata": {
  "kernelspec": {
   "display_name": "Python 3 (ipykernel)",
   "language": "python",
   "name": "python3"
  },
  "language_info": {
   "codemirror_mode": {
    "name": "ipython",
    "version": 3
   },
   "file_extension": ".py",
   "mimetype": "text/x-python",
   "name": "python",
   "nbconvert_exporter": "python",
   "pygments_lexer": "ipython3",
   "version": "3.12.3"
  }
 },
 "nbformat": 4,
 "nbformat_minor": 5
}
